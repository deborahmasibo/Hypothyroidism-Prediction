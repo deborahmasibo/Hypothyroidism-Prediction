{
  "nbformat": 4,
  "nbformat_minor": 0,
  "metadata": {
    "colab": {
      "name": "Hypothyroidism.ipynb",
      "provenance": [],
      "collapsed_sections": [],
      "toc_visible": true,
      "authorship_tag": "ABX9TyNUZoSNRQrSlTsrXsKLWjBI",
      "include_colab_link": true
    },
    "kernelspec": {
      "name": "python3",
      "display_name": "Python 3"
    },
    "language_info": {
      "name": "python"
    }
  },
  "cells": [
    {
      "cell_type": "markdown",
      "metadata": {
        "id": "view-in-github",
        "colab_type": "text"
      },
      "source": [
        "<a href=\"https://colab.research.google.com/github/deborahmasibo/Moringa-Core-Module-2-Week-3-IP/blob/main/Hypothyroidism.ipynb\" target=\"_parent\"><img src=\"https://colab.research.google.com/assets/colab-badge.svg\" alt=\"Open In Colab\"/></a>"
      ]
    },
    {
      "cell_type": "markdown",
      "source": [
        "#**Hypothyroisism**"
      ],
      "metadata": {
        "id": "m_KLvLGPEaic"
      }
    },
    {
      "cell_type": "markdown",
      "source": [
        "## 2. Data Understanding"
      ],
      "metadata": {
        "id": "qGz1HUaLE0Z1"
      }
    },
    {
      "cell_type": "markdown",
      "metadata": {
        "id": "WjyXQM5nl9Zt"
      },
      "source": [
        "## 2. Data Understanding"
      ]
    },
    {
      "cell_type": "code",
      "execution_count": 2,
      "metadata": {
        "id": "EECLNHxZmNWw"
      },
      "outputs": [],
      "source": [
        "# Imports\n",
        "# Imports\n",
        "import pandas as pd\n",
        "import numpy as np\n",
        "import matplotlib.pyplot as plt\n",
        "import seaborn as sns\n",
        "from sklearn.model_selection import train_test_split\n",
        "from sklearn.feature_selection import SelectFromModel\n",
        "from sklearn.preprocessing import StandardScaler, LabelEncoder\n",
        "from sklearn.discriminant_analysis import LinearDiscriminantAnalysis as LDA\n",
        "from sklearn.model_selection import train_test_split\n",
        "from sklearn.metrics import mean_squared_error, r2_score, f1_score, precision_score, recall_score, classification_report\n",
        "from sklearn.metrics import accuracy_score\n",
        "from sklearn.metrics import confusion_matrix\n",
        "from sklearn.tree import DecisionTreeClassifier\n",
        "from sklearn.svm import SVC\n",
        "from scipy.stats import bartlett\n",
        "from sklearn.ensemble import RandomForestRegressor, RandomForestClassifier\n",
        "from sklearn.model_selection import GridSearchCV, RandomizedSearchCV\n",
        "import os\n",
        "# Using seaborn style defaults and setting the default figure size\n",
        "sns.set(rc={'figure.figsize':(30, 5)})\n",
        "from warnings import filterwarnings\n",
        "filterwarnings('ignore')\n",
        "%matplotlib inline"
      ]
    },
    {
      "cell_type": "code",
      "execution_count": 4,
      "metadata": {
        "colab": {
          "base_uri": "https://localhost:8080/"
        },
        "id": "EZNC2z5Mf6hP",
        "outputId": "b99484b7-40cb-4e97-bc58-8ecd4f16f772"
      },
      "outputs": [
        {
          "output_type": "stream",
          "name": "stdout",
          "text": [
            "Drive already mounted at /content/drive; to attempt to forcibly remount, call drive.mount(\"/content/drive\", force_remount=True).\n"
          ]
        }
      ],
      "source": [
        "# Mounting Google Drive\n",
        "from google.colab import drive\n",
        "drive.mount('/content/drive')\n",
        "\n",
        "# Accessing working directory\n",
        "os.chdir('/content/drive/My Drive/Core/Machine Learning/Moringa Core Module 2 Week 3 IP')"
      ]
    },
    {
      "cell_type": "markdown",
      "metadata": {
        "id": "CHcXC9cDnkhE"
      },
      "source": [
        "### a) Reading the Data"
      ]
    },
    {
      "cell_type": "code",
      "execution_count": 42,
      "metadata": {
        "id": "eRG7SlLPnEu8"
      },
      "outputs": [],
      "source": [
        "# Dataset loading\n",
        "thyroid = pd.read_csv('hypothyroid.csv', na_values = {'?'})"
      ]
    },
    {
      "cell_type": "markdown",
      "metadata": {
        "id": "-4JvfGxQnz8d"
      },
      "source": [
        "### b) Checking the Data"
      ]
    },
    {
      "cell_type": "markdown",
      "metadata": {
        "id": "ex2krkBSn2fT"
      },
      "source": [
        "**Number of Records**"
      ]
    },
    {
      "cell_type": "code",
      "execution_count": 43,
      "metadata": {
        "colab": {
          "base_uri": "https://localhost:8080/"
        },
        "id": "V8GhMYVOod_f",
        "outputId": "62c1384f-8617-4fb5-a31e-e16c451321f1"
      },
      "outputs": [
        {
          "output_type": "stream",
          "name": "stdout",
          "text": [
            "Records: 3163 and columns: 26\n"
          ]
        }
      ],
      "source": [
        "# Number of rows and columns\n",
        "print(f'Records: {thyroid.shape[0]} and columns: {thyroid.shape[1]}')"
      ]
    },
    {
      "cell_type": "markdown",
      "metadata": {
        "id": "4stQjMppo2uX"
      },
      "source": [
        "**Top Dataset Preview**"
      ]
    },
    {
      "cell_type": "code",
      "source": [
        "# View all columns\n",
        "pd.set_option('display.max_columns', None)"
      ],
      "metadata": {
        "id": "PtGFH3BSIg-c"
      },
      "execution_count": 44,
      "outputs": []
    },
    {
      "cell_type": "code",
      "execution_count": 45,
      "metadata": {
        "colab": {
          "base_uri": "https://localhost:8080/",
          "height": 270
        },
        "id": "QbFDF-zHo5Du",
        "outputId": "e7a29a17-f44f-44c8-ee8d-c07b17a1a6cd"
      },
      "outputs": [
        {
          "output_type": "execute_result",
          "data": {
            "text/plain": [
              "        status   age sex on_thyroxine query_on_thyroxine  \\\n",
              "0  hypothyroid  72.0   M            f                  f   \n",
              "1  hypothyroid  15.0   F            t                  f   \n",
              "2  hypothyroid  24.0   M            f                  f   \n",
              "3  hypothyroid  24.0   F            f                  f   \n",
              "4  hypothyroid  77.0   M            f                  f   \n",
              "\n",
              "  on_antithyroid_medication thyroid_surgery query_hypothyroid  \\\n",
              "0                         f               f                 f   \n",
              "1                         f               f                 f   \n",
              "2                         f               f                 f   \n",
              "3                         f               f                 f   \n",
              "4                         f               f                 f   \n",
              "\n",
              "  query_hyperthyroid pregnant sick tumor lithium goitre TSH_measured    TSH  \\\n",
              "0                  f        f    f     f       f      f            y   30.0   \n",
              "1                  f        f    f     f       f      f            y  145.0   \n",
              "2                  f        f    f     f       f      f            y    0.0   \n",
              "3                  f        f    f     f       f      f            y  430.0   \n",
              "4                  f        f    f     f       f      f            y    7.3   \n",
              "\n",
              "  T3_measured   T3 TT4_measured   TT4 T4U_measured   T4U FTI_measured   FTI  \\\n",
              "0           y  0.6            y  15.0            y  1.48            y  10.0   \n",
              "1           y  1.7            y  19.0            y  1.13            y  17.0   \n",
              "2           y  0.2            y   4.0            y  1.00            y   0.0   \n",
              "3           y  0.4            y   6.0            y  1.04            y   6.0   \n",
              "4           y  1.2            y  57.0            y  1.28            y  44.0   \n",
              "\n",
              "  TBG_measured  TBG  \n",
              "0            n  NaN  \n",
              "1            n  NaN  \n",
              "2            n  NaN  \n",
              "3            n  NaN  \n",
              "4            n  NaN  "
            ],
            "text/html": [
              "\n",
              "  <div id=\"df-135f76d9-88b7-4af5-a608-de814c8839bb\">\n",
              "    <div class=\"colab-df-container\">\n",
              "      <div>\n",
              "<style scoped>\n",
              "    .dataframe tbody tr th:only-of-type {\n",
              "        vertical-align: middle;\n",
              "    }\n",
              "\n",
              "    .dataframe tbody tr th {\n",
              "        vertical-align: top;\n",
              "    }\n",
              "\n",
              "    .dataframe thead th {\n",
              "        text-align: right;\n",
              "    }\n",
              "</style>\n",
              "<table border=\"1\" class=\"dataframe\">\n",
              "  <thead>\n",
              "    <tr style=\"text-align: right;\">\n",
              "      <th></th>\n",
              "      <th>status</th>\n",
              "      <th>age</th>\n",
              "      <th>sex</th>\n",
              "      <th>on_thyroxine</th>\n",
              "      <th>query_on_thyroxine</th>\n",
              "      <th>on_antithyroid_medication</th>\n",
              "      <th>thyroid_surgery</th>\n",
              "      <th>query_hypothyroid</th>\n",
              "      <th>query_hyperthyroid</th>\n",
              "      <th>pregnant</th>\n",
              "      <th>sick</th>\n",
              "      <th>tumor</th>\n",
              "      <th>lithium</th>\n",
              "      <th>goitre</th>\n",
              "      <th>TSH_measured</th>\n",
              "      <th>TSH</th>\n",
              "      <th>T3_measured</th>\n",
              "      <th>T3</th>\n",
              "      <th>TT4_measured</th>\n",
              "      <th>TT4</th>\n",
              "      <th>T4U_measured</th>\n",
              "      <th>T4U</th>\n",
              "      <th>FTI_measured</th>\n",
              "      <th>FTI</th>\n",
              "      <th>TBG_measured</th>\n",
              "      <th>TBG</th>\n",
              "    </tr>\n",
              "  </thead>\n",
              "  <tbody>\n",
              "    <tr>\n",
              "      <th>0</th>\n",
              "      <td>hypothyroid</td>\n",
              "      <td>72.0</td>\n",
              "      <td>M</td>\n",
              "      <td>f</td>\n",
              "      <td>f</td>\n",
              "      <td>f</td>\n",
              "      <td>f</td>\n",
              "      <td>f</td>\n",
              "      <td>f</td>\n",
              "      <td>f</td>\n",
              "      <td>f</td>\n",
              "      <td>f</td>\n",
              "      <td>f</td>\n",
              "      <td>f</td>\n",
              "      <td>y</td>\n",
              "      <td>30.0</td>\n",
              "      <td>y</td>\n",
              "      <td>0.6</td>\n",
              "      <td>y</td>\n",
              "      <td>15.0</td>\n",
              "      <td>y</td>\n",
              "      <td>1.48</td>\n",
              "      <td>y</td>\n",
              "      <td>10.0</td>\n",
              "      <td>n</td>\n",
              "      <td>NaN</td>\n",
              "    </tr>\n",
              "    <tr>\n",
              "      <th>1</th>\n",
              "      <td>hypothyroid</td>\n",
              "      <td>15.0</td>\n",
              "      <td>F</td>\n",
              "      <td>t</td>\n",
              "      <td>f</td>\n",
              "      <td>f</td>\n",
              "      <td>f</td>\n",
              "      <td>f</td>\n",
              "      <td>f</td>\n",
              "      <td>f</td>\n",
              "      <td>f</td>\n",
              "      <td>f</td>\n",
              "      <td>f</td>\n",
              "      <td>f</td>\n",
              "      <td>y</td>\n",
              "      <td>145.0</td>\n",
              "      <td>y</td>\n",
              "      <td>1.7</td>\n",
              "      <td>y</td>\n",
              "      <td>19.0</td>\n",
              "      <td>y</td>\n",
              "      <td>1.13</td>\n",
              "      <td>y</td>\n",
              "      <td>17.0</td>\n",
              "      <td>n</td>\n",
              "      <td>NaN</td>\n",
              "    </tr>\n",
              "    <tr>\n",
              "      <th>2</th>\n",
              "      <td>hypothyroid</td>\n",
              "      <td>24.0</td>\n",
              "      <td>M</td>\n",
              "      <td>f</td>\n",
              "      <td>f</td>\n",
              "      <td>f</td>\n",
              "      <td>f</td>\n",
              "      <td>f</td>\n",
              "      <td>f</td>\n",
              "      <td>f</td>\n",
              "      <td>f</td>\n",
              "      <td>f</td>\n",
              "      <td>f</td>\n",
              "      <td>f</td>\n",
              "      <td>y</td>\n",
              "      <td>0.0</td>\n",
              "      <td>y</td>\n",
              "      <td>0.2</td>\n",
              "      <td>y</td>\n",
              "      <td>4.0</td>\n",
              "      <td>y</td>\n",
              "      <td>1.00</td>\n",
              "      <td>y</td>\n",
              "      <td>0.0</td>\n",
              "      <td>n</td>\n",
              "      <td>NaN</td>\n",
              "    </tr>\n",
              "    <tr>\n",
              "      <th>3</th>\n",
              "      <td>hypothyroid</td>\n",
              "      <td>24.0</td>\n",
              "      <td>F</td>\n",
              "      <td>f</td>\n",
              "      <td>f</td>\n",
              "      <td>f</td>\n",
              "      <td>f</td>\n",
              "      <td>f</td>\n",
              "      <td>f</td>\n",
              "      <td>f</td>\n",
              "      <td>f</td>\n",
              "      <td>f</td>\n",
              "      <td>f</td>\n",
              "      <td>f</td>\n",
              "      <td>y</td>\n",
              "      <td>430.0</td>\n",
              "      <td>y</td>\n",
              "      <td>0.4</td>\n",
              "      <td>y</td>\n",
              "      <td>6.0</td>\n",
              "      <td>y</td>\n",
              "      <td>1.04</td>\n",
              "      <td>y</td>\n",
              "      <td>6.0</td>\n",
              "      <td>n</td>\n",
              "      <td>NaN</td>\n",
              "    </tr>\n",
              "    <tr>\n",
              "      <th>4</th>\n",
              "      <td>hypothyroid</td>\n",
              "      <td>77.0</td>\n",
              "      <td>M</td>\n",
              "      <td>f</td>\n",
              "      <td>f</td>\n",
              "      <td>f</td>\n",
              "      <td>f</td>\n",
              "      <td>f</td>\n",
              "      <td>f</td>\n",
              "      <td>f</td>\n",
              "      <td>f</td>\n",
              "      <td>f</td>\n",
              "      <td>f</td>\n",
              "      <td>f</td>\n",
              "      <td>y</td>\n",
              "      <td>7.3</td>\n",
              "      <td>y</td>\n",
              "      <td>1.2</td>\n",
              "      <td>y</td>\n",
              "      <td>57.0</td>\n",
              "      <td>y</td>\n",
              "      <td>1.28</td>\n",
              "      <td>y</td>\n",
              "      <td>44.0</td>\n",
              "      <td>n</td>\n",
              "      <td>NaN</td>\n",
              "    </tr>\n",
              "  </tbody>\n",
              "</table>\n",
              "</div>\n",
              "      <button class=\"colab-df-convert\" onclick=\"convertToInteractive('df-135f76d9-88b7-4af5-a608-de814c8839bb')\"\n",
              "              title=\"Convert this dataframe to an interactive table.\"\n",
              "              style=\"display:none;\">\n",
              "        \n",
              "  <svg xmlns=\"http://www.w3.org/2000/svg\" height=\"24px\"viewBox=\"0 0 24 24\"\n",
              "       width=\"24px\">\n",
              "    <path d=\"M0 0h24v24H0V0z\" fill=\"none\"/>\n",
              "    <path d=\"M18.56 5.44l.94 2.06.94-2.06 2.06-.94-2.06-.94-.94-2.06-.94 2.06-2.06.94zm-11 1L8.5 8.5l.94-2.06 2.06-.94-2.06-.94L8.5 2.5l-.94 2.06-2.06.94zm10 10l.94 2.06.94-2.06 2.06-.94-2.06-.94-.94-2.06-.94 2.06-2.06.94z\"/><path d=\"M17.41 7.96l-1.37-1.37c-.4-.4-.92-.59-1.43-.59-.52 0-1.04.2-1.43.59L10.3 9.45l-7.72 7.72c-.78.78-.78 2.05 0 2.83L4 21.41c.39.39.9.59 1.41.59.51 0 1.02-.2 1.41-.59l7.78-7.78 2.81-2.81c.8-.78.8-2.07 0-2.86zM5.41 20L4 18.59l7.72-7.72 1.47 1.35L5.41 20z\"/>\n",
              "  </svg>\n",
              "      </button>\n",
              "      \n",
              "  <style>\n",
              "    .colab-df-container {\n",
              "      display:flex;\n",
              "      flex-wrap:wrap;\n",
              "      gap: 12px;\n",
              "    }\n",
              "\n",
              "    .colab-df-convert {\n",
              "      background-color: #E8F0FE;\n",
              "      border: none;\n",
              "      border-radius: 50%;\n",
              "      cursor: pointer;\n",
              "      display: none;\n",
              "      fill: #1967D2;\n",
              "      height: 32px;\n",
              "      padding: 0 0 0 0;\n",
              "      width: 32px;\n",
              "    }\n",
              "\n",
              "    .colab-df-convert:hover {\n",
              "      background-color: #E2EBFA;\n",
              "      box-shadow: 0px 1px 2px rgba(60, 64, 67, 0.3), 0px 1px 3px 1px rgba(60, 64, 67, 0.15);\n",
              "      fill: #174EA6;\n",
              "    }\n",
              "\n",
              "    [theme=dark] .colab-df-convert {\n",
              "      background-color: #3B4455;\n",
              "      fill: #D2E3FC;\n",
              "    }\n",
              "\n",
              "    [theme=dark] .colab-df-convert:hover {\n",
              "      background-color: #434B5C;\n",
              "      box-shadow: 0px 1px 3px 1px rgba(0, 0, 0, 0.15);\n",
              "      filter: drop-shadow(0px 1px 2px rgba(0, 0, 0, 0.3));\n",
              "      fill: #FFFFFF;\n",
              "    }\n",
              "  </style>\n",
              "\n",
              "      <script>\n",
              "        const buttonEl =\n",
              "          document.querySelector('#df-135f76d9-88b7-4af5-a608-de814c8839bb button.colab-df-convert');\n",
              "        buttonEl.style.display =\n",
              "          google.colab.kernel.accessAllowed ? 'block' : 'none';\n",
              "\n",
              "        async function convertToInteractive(key) {\n",
              "          const element = document.querySelector('#df-135f76d9-88b7-4af5-a608-de814c8839bb');\n",
              "          const dataTable =\n",
              "            await google.colab.kernel.invokeFunction('convertToInteractive',\n",
              "                                                     [key], {});\n",
              "          if (!dataTable) return;\n",
              "\n",
              "          const docLinkHtml = 'Like what you see? Visit the ' +\n",
              "            '<a target=\"_blank\" href=https://colab.research.google.com/notebooks/data_table.ipynb>data table notebook</a>'\n",
              "            + ' to learn more about interactive tables.';\n",
              "          element.innerHTML = '';\n",
              "          dataTable['output_type'] = 'display_data';\n",
              "          await google.colab.output.renderOutput(dataTable, element);\n",
              "          const docLink = document.createElement('div');\n",
              "          docLink.innerHTML = docLinkHtml;\n",
              "          element.appendChild(docLink);\n",
              "        }\n",
              "      </script>\n",
              "    </div>\n",
              "  </div>\n",
              "  "
            ]
          },
          "metadata": {},
          "execution_count": 45
        }
      ],
      "source": [
        "# First 5 records\n",
        "thyroid.head()"
      ]
    },
    {
      "cell_type": "markdown",
      "metadata": {
        "id": "x76kh__UpDLg"
      },
      "source": [
        "**Bottom Dataset Preview**"
      ]
    },
    {
      "cell_type": "code",
      "execution_count": 15,
      "metadata": {
        "colab": {
          "base_uri": "https://localhost:8080/",
          "height": 270
        },
        "id": "NbGdNP3ypB0r",
        "outputId": "d36b8805-d92a-4ef4-d52b-19b47018d399"
      },
      "outputs": [
        {
          "output_type": "execute_result",
          "data": {
            "text/plain": [
              "        status age sex on_thyroxine query_on_thyroxine  \\\n",
              "3158  negative  58   F            f                  f   \n",
              "3159  negative  29   F            f                  f   \n",
              "3160  negative  77   M            f                  f   \n",
              "3161  negative  74   F            f                  f   \n",
              "3162  negative  56   F            t                  f   \n",
              "\n",
              "     on_antithyroid_medication thyroid_surgery query_hypothyroid  \\\n",
              "3158                         f               f                 f   \n",
              "3159                         f               f                 f   \n",
              "3160                         f               f                 f   \n",
              "3161                         f               f                 f   \n",
              "3162                         f               f                 f   \n",
              "\n",
              "     query_hyperthyroid pregnant sick tumor lithium goitre TSH_measured   TSH  \\\n",
              "3158                  f        f    f     f       f      f            y  5.80   \n",
              "3159                  f        f    f     f       f      f            y  0.80   \n",
              "3160                  f        f    f     f       f      f            y  1.20   \n",
              "3161                  f        f    f     f       f      f            y  1.30   \n",
              "3162                  f        f    f     f       f      f            y     0   \n",
              "\n",
              "     T3_measured    T3 TT4_measured  TT4 T4U_measured   T4U FTI_measured  FTI  \\\n",
              "3158           y  1.70            y   86            y  0.91            y   95   \n",
              "3159           y  1.80            y   99            y  1.01            y   98   \n",
              "3160           y  0.60            y   71            y  0.68            y  104   \n",
              "3161           y  0.10            y   65            y  0.48            y  137   \n",
              "3162           y  1.80            y  139            y  0.97            y  143   \n",
              "\n",
              "     TBG_measured TBG  \n",
              "3158            n   ?  \n",
              "3159            n   ?  \n",
              "3160            n   ?  \n",
              "3161            n   ?  \n",
              "3162            n   ?  "
            ],
            "text/html": [
              "\n",
              "  <div id=\"df-973e5732-9bd1-4d5b-881a-1453ad90574a\">\n",
              "    <div class=\"colab-df-container\">\n",
              "      <div>\n",
              "<style scoped>\n",
              "    .dataframe tbody tr th:only-of-type {\n",
              "        vertical-align: middle;\n",
              "    }\n",
              "\n",
              "    .dataframe tbody tr th {\n",
              "        vertical-align: top;\n",
              "    }\n",
              "\n",
              "    .dataframe thead th {\n",
              "        text-align: right;\n",
              "    }\n",
              "</style>\n",
              "<table border=\"1\" class=\"dataframe\">\n",
              "  <thead>\n",
              "    <tr style=\"text-align: right;\">\n",
              "      <th></th>\n",
              "      <th>status</th>\n",
              "      <th>age</th>\n",
              "      <th>sex</th>\n",
              "      <th>on_thyroxine</th>\n",
              "      <th>query_on_thyroxine</th>\n",
              "      <th>on_antithyroid_medication</th>\n",
              "      <th>thyroid_surgery</th>\n",
              "      <th>query_hypothyroid</th>\n",
              "      <th>query_hyperthyroid</th>\n",
              "      <th>pregnant</th>\n",
              "      <th>sick</th>\n",
              "      <th>tumor</th>\n",
              "      <th>lithium</th>\n",
              "      <th>goitre</th>\n",
              "      <th>TSH_measured</th>\n",
              "      <th>TSH</th>\n",
              "      <th>T3_measured</th>\n",
              "      <th>T3</th>\n",
              "      <th>TT4_measured</th>\n",
              "      <th>TT4</th>\n",
              "      <th>T4U_measured</th>\n",
              "      <th>T4U</th>\n",
              "      <th>FTI_measured</th>\n",
              "      <th>FTI</th>\n",
              "      <th>TBG_measured</th>\n",
              "      <th>TBG</th>\n",
              "    </tr>\n",
              "  </thead>\n",
              "  <tbody>\n",
              "    <tr>\n",
              "      <th>3158</th>\n",
              "      <td>negative</td>\n",
              "      <td>58</td>\n",
              "      <td>F</td>\n",
              "      <td>f</td>\n",
              "      <td>f</td>\n",
              "      <td>f</td>\n",
              "      <td>f</td>\n",
              "      <td>f</td>\n",
              "      <td>f</td>\n",
              "      <td>f</td>\n",
              "      <td>f</td>\n",
              "      <td>f</td>\n",
              "      <td>f</td>\n",
              "      <td>f</td>\n",
              "      <td>y</td>\n",
              "      <td>5.80</td>\n",
              "      <td>y</td>\n",
              "      <td>1.70</td>\n",
              "      <td>y</td>\n",
              "      <td>86</td>\n",
              "      <td>y</td>\n",
              "      <td>0.91</td>\n",
              "      <td>y</td>\n",
              "      <td>95</td>\n",
              "      <td>n</td>\n",
              "      <td>?</td>\n",
              "    </tr>\n",
              "    <tr>\n",
              "      <th>3159</th>\n",
              "      <td>negative</td>\n",
              "      <td>29</td>\n",
              "      <td>F</td>\n",
              "      <td>f</td>\n",
              "      <td>f</td>\n",
              "      <td>f</td>\n",
              "      <td>f</td>\n",
              "      <td>f</td>\n",
              "      <td>f</td>\n",
              "      <td>f</td>\n",
              "      <td>f</td>\n",
              "      <td>f</td>\n",
              "      <td>f</td>\n",
              "      <td>f</td>\n",
              "      <td>y</td>\n",
              "      <td>0.80</td>\n",
              "      <td>y</td>\n",
              "      <td>1.80</td>\n",
              "      <td>y</td>\n",
              "      <td>99</td>\n",
              "      <td>y</td>\n",
              "      <td>1.01</td>\n",
              "      <td>y</td>\n",
              "      <td>98</td>\n",
              "      <td>n</td>\n",
              "      <td>?</td>\n",
              "    </tr>\n",
              "    <tr>\n",
              "      <th>3160</th>\n",
              "      <td>negative</td>\n",
              "      <td>77</td>\n",
              "      <td>M</td>\n",
              "      <td>f</td>\n",
              "      <td>f</td>\n",
              "      <td>f</td>\n",
              "      <td>f</td>\n",
              "      <td>f</td>\n",
              "      <td>f</td>\n",
              "      <td>f</td>\n",
              "      <td>f</td>\n",
              "      <td>f</td>\n",
              "      <td>f</td>\n",
              "      <td>f</td>\n",
              "      <td>y</td>\n",
              "      <td>1.20</td>\n",
              "      <td>y</td>\n",
              "      <td>0.60</td>\n",
              "      <td>y</td>\n",
              "      <td>71</td>\n",
              "      <td>y</td>\n",
              "      <td>0.68</td>\n",
              "      <td>y</td>\n",
              "      <td>104</td>\n",
              "      <td>n</td>\n",
              "      <td>?</td>\n",
              "    </tr>\n",
              "    <tr>\n",
              "      <th>3161</th>\n",
              "      <td>negative</td>\n",
              "      <td>74</td>\n",
              "      <td>F</td>\n",
              "      <td>f</td>\n",
              "      <td>f</td>\n",
              "      <td>f</td>\n",
              "      <td>f</td>\n",
              "      <td>f</td>\n",
              "      <td>f</td>\n",
              "      <td>f</td>\n",
              "      <td>f</td>\n",
              "      <td>f</td>\n",
              "      <td>f</td>\n",
              "      <td>f</td>\n",
              "      <td>y</td>\n",
              "      <td>1.30</td>\n",
              "      <td>y</td>\n",
              "      <td>0.10</td>\n",
              "      <td>y</td>\n",
              "      <td>65</td>\n",
              "      <td>y</td>\n",
              "      <td>0.48</td>\n",
              "      <td>y</td>\n",
              "      <td>137</td>\n",
              "      <td>n</td>\n",
              "      <td>?</td>\n",
              "    </tr>\n",
              "    <tr>\n",
              "      <th>3162</th>\n",
              "      <td>negative</td>\n",
              "      <td>56</td>\n",
              "      <td>F</td>\n",
              "      <td>t</td>\n",
              "      <td>f</td>\n",
              "      <td>f</td>\n",
              "      <td>f</td>\n",
              "      <td>f</td>\n",
              "      <td>f</td>\n",
              "      <td>f</td>\n",
              "      <td>f</td>\n",
              "      <td>f</td>\n",
              "      <td>f</td>\n",
              "      <td>f</td>\n",
              "      <td>y</td>\n",
              "      <td>0</td>\n",
              "      <td>y</td>\n",
              "      <td>1.80</td>\n",
              "      <td>y</td>\n",
              "      <td>139</td>\n",
              "      <td>y</td>\n",
              "      <td>0.97</td>\n",
              "      <td>y</td>\n",
              "      <td>143</td>\n",
              "      <td>n</td>\n",
              "      <td>?</td>\n",
              "    </tr>\n",
              "  </tbody>\n",
              "</table>\n",
              "</div>\n",
              "      <button class=\"colab-df-convert\" onclick=\"convertToInteractive('df-973e5732-9bd1-4d5b-881a-1453ad90574a')\"\n",
              "              title=\"Convert this dataframe to an interactive table.\"\n",
              "              style=\"display:none;\">\n",
              "        \n",
              "  <svg xmlns=\"http://www.w3.org/2000/svg\" height=\"24px\"viewBox=\"0 0 24 24\"\n",
              "       width=\"24px\">\n",
              "    <path d=\"M0 0h24v24H0V0z\" fill=\"none\"/>\n",
              "    <path d=\"M18.56 5.44l.94 2.06.94-2.06 2.06-.94-2.06-.94-.94-2.06-.94 2.06-2.06.94zm-11 1L8.5 8.5l.94-2.06 2.06-.94-2.06-.94L8.5 2.5l-.94 2.06-2.06.94zm10 10l.94 2.06.94-2.06 2.06-.94-2.06-.94-.94-2.06-.94 2.06-2.06.94z\"/><path d=\"M17.41 7.96l-1.37-1.37c-.4-.4-.92-.59-1.43-.59-.52 0-1.04.2-1.43.59L10.3 9.45l-7.72 7.72c-.78.78-.78 2.05 0 2.83L4 21.41c.39.39.9.59 1.41.59.51 0 1.02-.2 1.41-.59l7.78-7.78 2.81-2.81c.8-.78.8-2.07 0-2.86zM5.41 20L4 18.59l7.72-7.72 1.47 1.35L5.41 20z\"/>\n",
              "  </svg>\n",
              "      </button>\n",
              "      \n",
              "  <style>\n",
              "    .colab-df-container {\n",
              "      display:flex;\n",
              "      flex-wrap:wrap;\n",
              "      gap: 12px;\n",
              "    }\n",
              "\n",
              "    .colab-df-convert {\n",
              "      background-color: #E8F0FE;\n",
              "      border: none;\n",
              "      border-radius: 50%;\n",
              "      cursor: pointer;\n",
              "      display: none;\n",
              "      fill: #1967D2;\n",
              "      height: 32px;\n",
              "      padding: 0 0 0 0;\n",
              "      width: 32px;\n",
              "    }\n",
              "\n",
              "    .colab-df-convert:hover {\n",
              "      background-color: #E2EBFA;\n",
              "      box-shadow: 0px 1px 2px rgba(60, 64, 67, 0.3), 0px 1px 3px 1px rgba(60, 64, 67, 0.15);\n",
              "      fill: #174EA6;\n",
              "    }\n",
              "\n",
              "    [theme=dark] .colab-df-convert {\n",
              "      background-color: #3B4455;\n",
              "      fill: #D2E3FC;\n",
              "    }\n",
              "\n",
              "    [theme=dark] .colab-df-convert:hover {\n",
              "      background-color: #434B5C;\n",
              "      box-shadow: 0px 1px 3px 1px rgba(0, 0, 0, 0.15);\n",
              "      filter: drop-shadow(0px 1px 2px rgba(0, 0, 0, 0.3));\n",
              "      fill: #FFFFFF;\n",
              "    }\n",
              "  </style>\n",
              "\n",
              "      <script>\n",
              "        const buttonEl =\n",
              "          document.querySelector('#df-973e5732-9bd1-4d5b-881a-1453ad90574a button.colab-df-convert');\n",
              "        buttonEl.style.display =\n",
              "          google.colab.kernel.accessAllowed ? 'block' : 'none';\n",
              "\n",
              "        async function convertToInteractive(key) {\n",
              "          const element = document.querySelector('#df-973e5732-9bd1-4d5b-881a-1453ad90574a');\n",
              "          const dataTable =\n",
              "            await google.colab.kernel.invokeFunction('convertToInteractive',\n",
              "                                                     [key], {});\n",
              "          if (!dataTable) return;\n",
              "\n",
              "          const docLinkHtml = 'Like what you see? Visit the ' +\n",
              "            '<a target=\"_blank\" href=https://colab.research.google.com/notebooks/data_table.ipynb>data table notebook</a>'\n",
              "            + ' to learn more about interactive tables.';\n",
              "          element.innerHTML = '';\n",
              "          dataTable['output_type'] = 'display_data';\n",
              "          await google.colab.output.renderOutput(dataTable, element);\n",
              "          const docLink = document.createElement('div');\n",
              "          docLink.innerHTML = docLinkHtml;\n",
              "          element.appendChild(docLink);\n",
              "        }\n",
              "      </script>\n",
              "    </div>\n",
              "  </div>\n",
              "  "
            ]
          },
          "metadata": {},
          "execution_count": 15
        }
      ],
      "source": [
        "# Last 5 records\n",
        "thyroid.tail()"
      ]
    },
    {
      "cell_type": "markdown",
      "metadata": {
        "id": "shw8hPw9pSAg"
      },
      "source": [
        "### c) Checking Datatypes"
      ]
    },
    {
      "cell_type": "code",
      "execution_count": 46,
      "metadata": {
        "colab": {
          "base_uri": "https://localhost:8080/"
        },
        "id": "uyC2PQxvpRsq",
        "outputId": "1a18a62e-6d82-49bf-8945-9eced2741837"
      },
      "outputs": [
        {
          "output_type": "stream",
          "name": "stdout",
          "text": [
            "<class 'pandas.core.frame.DataFrame'>\n",
            "RangeIndex: 3163 entries, 0 to 3162\n",
            "Data columns (total 26 columns):\n",
            " #   Column                     Non-Null Count  Dtype  \n",
            "---  ------                     --------------  -----  \n",
            " 0   status                     3163 non-null   object \n",
            " 1   age                        2717 non-null   float64\n",
            " 2   sex                        3090 non-null   object \n",
            " 3   on_thyroxine               3163 non-null   object \n",
            " 4   query_on_thyroxine         3163 non-null   object \n",
            " 5   on_antithyroid_medication  3163 non-null   object \n",
            " 6   thyroid_surgery            3163 non-null   object \n",
            " 7   query_hypothyroid          3163 non-null   object \n",
            " 8   query_hyperthyroid         3163 non-null   object \n",
            " 9   pregnant                   3163 non-null   object \n",
            " 10  sick                       3163 non-null   object \n",
            " 11  tumor                      3163 non-null   object \n",
            " 12  lithium                    3163 non-null   object \n",
            " 13  goitre                     3163 non-null   object \n",
            " 14  TSH_measured               3163 non-null   object \n",
            " 15  TSH                        2695 non-null   float64\n",
            " 16  T3_measured                3163 non-null   object \n",
            " 17  T3                         2468 non-null   float64\n",
            " 18  TT4_measured               3163 non-null   object \n",
            " 19  TT4                        2914 non-null   float64\n",
            " 20  T4U_measured               3163 non-null   object \n",
            " 21  T4U                        2915 non-null   float64\n",
            " 22  FTI_measured               3163 non-null   object \n",
            " 23  FTI                        2916 non-null   float64\n",
            " 24  TBG_measured               3163 non-null   object \n",
            " 25  TBG                        260 non-null    float64\n",
            "dtypes: float64(7), object(19)\n",
            "memory usage: 642.6+ KB\n"
          ]
        }
      ],
      "source": [
        "# Dataset infromation\n",
        "thyroid.info()"
      ]
    },
    {
      "cell_type": "markdown",
      "metadata": {
        "id": "Ph6Kb3swpmYE"
      },
      "source": [
        "* The dataset has missing values.\n",
        "* The age, TSH, T3 TT4, T4U and FTI columns need to be converted to numeric form."
      ]
    },
    {
      "cell_type": "markdown",
      "source": [
        "## 3. External Dataset Validation "
      ],
      "metadata": {
        "id": "aCvQRrj0JpRz"
      }
    },
    {
      "cell_type": "markdown",
      "source": [
        ""
      ],
      "metadata": {
        "id": "9mrNkQiJJq1s"
      }
    },
    {
      "cell_type": "markdown",
      "source": [
        "## 4. Data Preperation"
      ],
      "metadata": {
        "id": "k2dSaxs8JzuV"
      }
    },
    {
      "cell_type": "markdown",
      "source": [
        "### a) Validation"
      ],
      "metadata": {
        "id": "G9vDqlpkJ34P"
      }
    },
    {
      "cell_type": "code",
      "source": [
        "# Checking columns\n",
        "thyroid.columns"
      ],
      "metadata": {
        "colab": {
          "base_uri": "https://localhost:8080/"
        },
        "id": "hhRzETVuJ3Uj",
        "outputId": "86954a7b-41ec-4305-cf9f-3a74266fe22d"
      },
      "execution_count": 20,
      "outputs": [
        {
          "output_type": "execute_result",
          "data": {
            "text/plain": [
              "Index(['status', 'age', 'sex', 'on_thyroxine', 'query_on_thyroxine',\n",
              "       'on_antithyroid_medication', 'thyroid_surgery', 'query_hypothyroid',\n",
              "       'query_hyperthyroid', 'pregnant', 'sick', 'tumor', 'lithium', 'goitre',\n",
              "       'TSH_measured', 'TSH', 'T3_measured', 'T3', 'TT4_measured', 'TT4',\n",
              "       'T4U_measured', 'T4U', 'FTI_measured', 'FTI', 'TBG_measured', 'TBG'],\n",
              "      dtype='object')"
            ]
          },
          "metadata": {},
          "execution_count": 20
        }
      ]
    },
    {
      "cell_type": "markdown",
      "source": [
        "All columns will be retained."
      ],
      "metadata": {
        "id": "kkl26mbXKEAn"
      }
    },
    {
      "cell_type": "markdown",
      "source": [
        "### b) Completeness"
      ],
      "metadata": {
        "id": "4Uvn4BmbKGTX"
      }
    },
    {
      "cell_type": "code",
      "source": [
        "# Checking for missing values\n",
        "thyroid.isnull().sum()"
      ],
      "metadata": {
        "colab": {
          "base_uri": "https://localhost:8080/"
        },
        "id": "gJuP2NcuKMWp",
        "outputId": "1a71a103-c9a1-4194-ad55-b72e4f74a6f7"
      },
      "execution_count": 47,
      "outputs": [
        {
          "output_type": "execute_result",
          "data": {
            "text/plain": [
              "status                          0\n",
              "age                           446\n",
              "sex                            73\n",
              "on_thyroxine                    0\n",
              "query_on_thyroxine              0\n",
              "on_antithyroid_medication       0\n",
              "thyroid_surgery                 0\n",
              "query_hypothyroid               0\n",
              "query_hyperthyroid              0\n",
              "pregnant                        0\n",
              "sick                            0\n",
              "tumor                           0\n",
              "lithium                         0\n",
              "goitre                          0\n",
              "TSH_measured                    0\n",
              "TSH                           468\n",
              "T3_measured                     0\n",
              "T3                            695\n",
              "TT4_measured                    0\n",
              "TT4                           249\n",
              "T4U_measured                    0\n",
              "T4U                           248\n",
              "FTI_measured                    0\n",
              "FTI                           247\n",
              "TBG_measured                    0\n",
              "TBG                          2903\n",
              "dtype: int64"
            ]
          },
          "metadata": {},
          "execution_count": 47
        }
      ]
    },
    {
      "cell_type": "code",
      "source": [
        "# Check percentage of missing values for each column\n",
        "# List of columns with missin values\n",
        "missing_cols = []\n",
        "for i, col in enumerate(thyroid.columns):\n",
        "  missing = (thyroid[col].isnull().sum()/thyroid.shape[0])*100\n",
        "  if missing > 0:\n",
        "    missing_cols.append(col)\n",
        "  print(f'{i+1}. {col} = {(thyroid[col].isnull().sum()/thyroid.shape[0])*100}%')"
      ],
      "metadata": {
        "colab": {
          "base_uri": "https://localhost:8080/"
        },
        "id": "RyEdjrooQN80",
        "outputId": "a59b92e9-daa0-471b-8b79-c0eddd32fc2b"
      },
      "execution_count": 50,
      "outputs": [
        {
          "output_type": "stream",
          "name": "stdout",
          "text": [
            "1. status = 0.0%\n",
            "2. age = 14.1005374644325%\n",
            "3. sex = 2.3079355042681002%\n",
            "4. on_thyroxine = 0.0%\n",
            "5. query_on_thyroxine = 0.0%\n",
            "6. on_antithyroid_medication = 0.0%\n",
            "7. thyroid_surgery = 0.0%\n",
            "8. query_hypothyroid = 0.0%\n",
            "9. query_hyperthyroid = 0.0%\n",
            "10. pregnant = 0.0%\n",
            "11. sick = 0.0%\n",
            "12. tumor = 0.0%\n",
            "13. lithium = 0.0%\n",
            "14. goitre = 0.0%\n",
            "15. TSH_measured = 0.0%\n",
            "16. TSH = 14.796079671198228%\n",
            "17. T3_measured = 0.0%\n",
            "18. T3 = 21.97281062282643%\n",
            "19. TT4_measured = 0.0%\n",
            "20. TT4 = 7.872273158393931%\n",
            "21. T4U_measured = 0.0%\n",
            "22. T4U = 7.840657603540942%\n",
            "23. FTI_measured = 0.0%\n",
            "24. FTI = 7.809042048687955%\n",
            "25. TBG_measured = 0.0%\n",
            "26. TBG = 91.77995573822321%\n"
          ]
        }
      ]
    },
    {
      "cell_type": "markdown",
      "source": [
        "* The TBG column will be dropped as 92% of its records are missing.\n",
        "* The rest will be imputed."
      ],
      "metadata": {
        "id": "4yOfQAWvKX7y"
      }
    },
    {
      "cell_type": "code",
      "source": [
        "# Columns with mising values\n",
        "missing_cols"
      ],
      "metadata": {
        "colab": {
          "base_uri": "https://localhost:8080/"
        },
        "id": "5WWzmJi9Ro9x",
        "outputId": "4f322049-2906-4d35-8f31-f337cf1f79b4"
      },
      "execution_count": 52,
      "outputs": [
        {
          "output_type": "execute_result",
          "data": {
            "text/plain": [
              "['age', 'sex', 'TSH', 'T3', 'TT4', 'T4U', 'FTI', 'TBG']"
            ]
          },
          "metadata": {},
          "execution_count": 52
        }
      ]
    },
    {
      "cell_type": "code",
      "source": [
        "# Dropping TBG\n",
        "thyroid.drop('TBG', axis = 1, inplace = True)"
      ],
      "metadata": {
        "id": "iQwsGaLnRymy"
      },
      "execution_count": 53,
      "outputs": []
    },
    {
      "cell_type": "code",
      "source": [
        "# Unique sex column values\n",
        "thyroid.sex.value_counts()"
      ],
      "metadata": {
        "colab": {
          "base_uri": "https://localhost:8080/"
        },
        "id": "8kEpGlQ1ROy9",
        "outputId": "d1b19914-a101-45bc-8df3-7f239cd9e86f"
      },
      "execution_count": 54,
      "outputs": [
        {
          "output_type": "execute_result",
          "data": {
            "text/plain": [
              "F    2182\n",
              "M     908\n",
              "Name: sex, dtype: int64"
            ]
          },
          "metadata": {},
          "execution_count": 54
        }
      ]
    },
    {
      "cell_type": "code",
      "source": [
        "# Imputing with the mode which is female\n",
        "thyroid.fillna('F', inplace = True)"
      ],
      "metadata": {
        "id": "ihVCMu7sSSNs"
      },
      "execution_count": 55,
      "outputs": []
    },
    {
      "cell_type": "code",
      "source": [
        "# Removing columns that have been dealt with from the list of columns with \n",
        "# missing values.\n",
        "missing_cols.remove('sex')\n",
        "missing_cols.remove('TBG')"
      ],
      "metadata": {
        "id": "2cZZp1vnSia_"
      },
      "execution_count": 56,
      "outputs": []
    },
    {
      "cell_type": "markdown",
      "source": [
        "**Changing the datatypes first**"
      ],
      "metadata": {
        "id": "UMget8BaUJYK"
      }
    },
    {
      "cell_type": "code",
      "source": [
        "# Converting the numeric columns from object type to numeric datatypes.\n",
        "for col in missing_cols:\n",
        "  thyroid[col] = pd.to_numeric(thyroid[col],errors='coerce')\n",
        "# Imputing the mean\n",
        "for col in missing_cols:\n",
        "  thyroid[col].fillna(thyroid[col].mean(), inplace = True)"
      ],
      "metadata": {
        "id": "VctwhLB6S8Qt"
      },
      "execution_count": 67,
      "outputs": []
    },
    {
      "cell_type": "code",
      "source": [
        "# Checking changes\n",
        "thyroid.isnull().any().any()"
      ],
      "metadata": {
        "colab": {
          "base_uri": "https://localhost:8080/"
        },
        "id": "H-7HpZurVgWN",
        "outputId": "b000c6f2-72de-46f7-a646-839848d29f3f"
      },
      "execution_count": 68,
      "outputs": [
        {
          "output_type": "execute_result",
          "data": {
            "text/plain": [
              "False"
            ]
          },
          "metadata": {},
          "execution_count": 68
        }
      ]
    },
    {
      "cell_type": "markdown",
      "source": [
        "All missing values have been dealt with."
      ],
      "metadata": {
        "id": "Mgfa91wRVmRT"
      }
    },
    {
      "cell_type": "markdown",
      "source": [
        "### c) Consistency"
      ],
      "metadata": {
        "id": "OoDEln2mKiVI"
      }
    },
    {
      "cell_type": "code",
      "source": [
        "# Checking for duplicates\n",
        "thyroid.duplicated().any().any()"
      ],
      "metadata": {
        "colab": {
          "base_uri": "https://localhost:8080/"
        },
        "id": "HtwnvWD_KgDM",
        "outputId": "a2d8df0e-f601-4bcd-ecd0-30916305fd20"
      },
      "execution_count": 70,
      "outputs": [
        {
          "output_type": "execute_result",
          "data": {
            "text/plain": [
              "True"
            ]
          },
          "metadata": {},
          "execution_count": 70
        }
      ]
    },
    {
      "cell_type": "code",
      "source": [
        "# Dropping duplicates\n",
        "thyroid.drop_duplicates(inplace= True)"
      ],
      "metadata": {
        "id": "Mtkj7fqvKsGC"
      },
      "execution_count": 71,
      "outputs": []
    },
    {
      "cell_type": "code",
      "source": [
        "# Checking changes\n",
        "thyroid.duplicated().any().any()"
      ],
      "metadata": {
        "colab": {
          "base_uri": "https://localhost:8080/"
        },
        "id": "Ur-bPXrvKz6S",
        "outputId": "ac0cba31-19e4-41aa-c730-d3159105967e"
      },
      "execution_count": 72,
      "outputs": [
        {
          "output_type": "execute_result",
          "data": {
            "text/plain": [
              "False"
            ]
          },
          "metadata": {},
          "execution_count": 72
        }
      ]
    },
    {
      "cell_type": "markdown",
      "source": [
        "Duplicates have been removed successfully."
      ],
      "metadata": {
        "id": "XXGy66J8K7xQ"
      }
    },
    {
      "cell_type": "markdown",
      "source": [
        "### d) Uniformity"
      ],
      "metadata": {
        "id": "lFmTSHk2LHUv"
      }
    },
    {
      "cell_type": "code",
      "source": [
        "# Columns\n",
        "thyroid.columns"
      ],
      "metadata": {
        "colab": {
          "base_uri": "https://localhost:8080/"
        },
        "id": "geIYn3yhLLco",
        "outputId": "eb8480b9-00c4-46d1-94cd-12a52c40bb93"
      },
      "execution_count": 73,
      "outputs": [
        {
          "output_type": "execute_result",
          "data": {
            "text/plain": [
              "Index(['status', 'age', 'sex', 'on_thyroxine', 'query_on_thyroxine',\n",
              "       'on_antithyroid_medication', 'thyroid_surgery', 'query_hypothyroid',\n",
              "       'query_hyperthyroid', 'pregnant', 'sick', 'tumor', 'lithium', 'goitre',\n",
              "       'TSH_measured', 'TSH', 'T3_measured', 'T3', 'TT4_measured', 'TT4',\n",
              "       'T4U_measured', 'T4U', 'FTI_measured', 'FTI', 'TBG_measured'],\n",
              "      dtype='object')"
            ]
          },
          "metadata": {},
          "execution_count": 73
        }
      ]
    },
    {
      "cell_type": "code",
      "source": [
        "# Changing all column names to lower case\n",
        "thyroid.columns = thyroid.columns.str.lower()\n",
        "# Checking changes\n",
        "thyroid.columns"
      ],
      "metadata": {
        "colab": {
          "base_uri": "https://localhost:8080/"
        },
        "id": "P0Y38wUXLin5",
        "outputId": "70849b67-bce3-42fb-f159-106ea810501c"
      },
      "execution_count": 74,
      "outputs": [
        {
          "output_type": "execute_result",
          "data": {
            "text/plain": [
              "Index(['status', 'age', 'sex', 'on_thyroxine', 'query_on_thyroxine',\n",
              "       'on_antithyroid_medication', 'thyroid_surgery', 'query_hypothyroid',\n",
              "       'query_hyperthyroid', 'pregnant', 'sick', 'tumor', 'lithium', 'goitre',\n",
              "       'tsh_measured', 'tsh', 't3_measured', 't3', 'tt4_measured', 'tt4',\n",
              "       't4u_measured', 't4u', 'fti_measured', 'fti', 'tbg_measured'],\n",
              "      dtype='object')"
            ]
          },
          "metadata": {},
          "execution_count": 74
        }
      ]
    },
    {
      "cell_type": "markdown",
      "source": [
        "The column names have a consistent case."
      ],
      "metadata": {
        "id": "mzMJNVsKM6HI"
      }
    },
    {
      "cell_type": "markdown",
      "source": [
        "### e) Outliers"
      ],
      "metadata": {
        "id": "OPuN_7iGNBDs"
      }
    },
    {
      "cell_type": "code",
      "source": [
        "# Outliers function\n",
        "def outliers(data):\n",
        "  # IQR\n",
        "  Q1, Q3, IQR = 0, 0, 0\n",
        "  outliers = pd.DataFrame()\n",
        "  # Numerical columns\n",
        "  numerical = data.select_dtypes(include = ['int64', 'float64'])\n",
        "  Q1 = numerical.quantile(0.25)\n",
        "  Q3 = numerical.quantile(0.75)\n",
        "  IQR = Q3 - Q1\n",
        "  # Outliers\n",
        "  outliers = numerical[((numerical < (Q1 - 1.5 * IQR)) |(numerical > (Q3 + 1.5 * IQR))).any(axis=1)]\n",
        "  print(f'Number of outliers = {outliers.shape[0]}')\n",
        "  print(f'Percentage = {(outliers.shape[0]/data.shape[0])*100}%')"
      ],
      "metadata": {
        "id": "IVVJ961SNAdo"
      },
      "execution_count": 36,
      "outputs": []
    },
    {
      "cell_type": "code",
      "source": [
        "# Checking for outliers\n",
        "# List of columns with continuous values\n",
        "continuous = list(thyroid.select_dtypes(exclude = 'object'))\n",
        "outliers(thyroid[continuous])"
      ],
      "metadata": {
        "colab": {
          "base_uri": "https://localhost:8080/"
        },
        "id": "RX4IUu2ZM9Jv",
        "outputId": "e403534f-4802-4219-cfbe-29b1c2adfde0"
      },
      "execution_count": 76,
      "outputs": [
        {
          "output_type": "stream",
          "name": "stdout",
          "text": [
            "Number of outliers = 655\n",
            "Percentage = 21.78250748254074%\n"
          ]
        }
      ]
    },
    {
      "cell_type": "markdown",
      "source": [
        "The outliers form a significant part of the data. Standardization will be used to normalize the distribution of the data."
      ],
      "metadata": {
        "id": "eg-sdJ8lWdYJ"
      }
    },
    {
      "cell_type": "markdown",
      "source": [
        "## 5. Desciptive analysis"
      ],
      "metadata": {
        "id": "AWzok4kaWqD_"
      }
    },
    {
      "cell_type": "markdown",
      "source": [
        "###"
      ],
      "metadata": {
        "id": "hPXE9F6HW3Rg"
      }
    }
  ]
}